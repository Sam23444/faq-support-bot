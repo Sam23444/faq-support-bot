{
  "nbformat": 4,
  "nbformat_minor": 0,
  "metadata": {
    "colab": {
      "provenance": []
    },
    "kernelspec": {
      "name": "python3",
      "display_name": "Python 3"
    },
    "language_info": {
      "name": "python"
    }
  },
  "cells": [
    {
      "cell_type": "code",
      "execution_count": 1,
      "metadata": {
        "id": "ZuVmI5yRbzqA"
      },
      "outputs": [],
      "source": [
        "import os\n",
        "import openai\n",
        "import gradio as gr"
      ]
    },
    {
      "cell_type": "code",
      "source": [
        "\n",
        "os.environ[\"OPENAI_API_KEY\"] = your api key"
      ],
      "metadata": {
        "id": "uPLZMWHtcMs-"
      },
      "execution_count": 2,
      "outputs": []
    },
    {
      "cell_type": "code",
      "source": [
        "# 2️⃣ FAQ Knowledge Base\n",
        "# --------------------------\n",
        "faq_context = \"\"\"\n",
        "FAQs:\n",
        "Q: What are your business hours?\n",
        "A: We are open Monday to Friday, 9 AM to 6 PM.\n",
        "\n",
        "Q: How can I reset my password?\n",
        "A: Click on 'Forgot Password' on the login page and follow the instructions.\n",
        "\n",
        "Q: Where do you ship to?\n",
        "A: We ship to all 50 U.S. states and select international locations.\n",
        "\n",
        "Q: How can I contact support?\n",
        "A: Email us at support@example.com or call 1-800-123-4567.\n",
        "\"\"\""
      ],
      "metadata": {
        "id": "J9xEcWcjcgsc"
      },
      "execution_count": 4,
      "outputs": []
    },
    {
      "cell_type": "code",
      "source": [
        "\n",
        "# --------------------------\n",
        "# 3️⃣ Chat Function\n",
        "# --------------------------\n",
        "def get_faq_response(user_input):\n",
        "    \"\"\"Generate a chatbot response based on the FAQ context.\"\"\"\n",
        "    if not user_input.strip():\n",
        "        return \"Please enter a question.\"\n",
        "\n",
        "    messages = [\n",
        "        {\n",
        "            \"role\": \"system\",\n",
        "            \"content\": (\n",
        "                \"You are a helpful customer support agent. \"\n",
        "                \"Use the FAQ information below to answer questions as accurately as possible.\\n\"\n",
        "                + faq_context\n",
        "            ),\n",
        "        },\n",
        "        {\"role\": \"user\", \"content\": user_input},\n",
        "    ]\n",
        "\n",
        "    try:\n",
        "        response = openai.ChatCompletion.create(\n",
        "            model=\"gpt-3.5-turbo\",\n",
        "            messages=messages,\n",
        "            temperature=0.3,  # lower temperature = more factual\n",
        "        )\n",
        "        return response.choices[0].message[\"content\"].strip()\n",
        "\n",
        "    except openai.error.AuthenticationError:\n",
        "        return \"❌ Invalid API key. Please check your OpenAI key.\"\n",
        "    except openai.error.APIConnectionError:\n",
        "        return \"🌐 Network error. Please check your internet connection.\"\n",
        "    except Exception as e:\n",
        "        return f\"⚠️ Unexpected error: {str(e)}\""
      ],
      "metadata": {
        "id": "bg86OXM4czjx"
      },
      "execution_count": 5,
      "outputs": []
    },
    {
      "cell_type": "code",
      "source": [
        "# --------------------------\n",
        "# 4️⃣ Gradio Interface\n",
        "# --------------------------\n",
        "iface = gr.Interface(\n",
        "    fn=get_faq_response,\n",
        "    inputs=gr.Textbox(label=\"Ask a Question\", placeholder=\"e.g. What are your business hours?\"),\n",
        "    outputs=\"text\",\n",
        "    title=\"🧭 Customer Support FAQ Bot\",\n",
        "    description=\"Ask a question and get instant support answers.\",\n",
        ")\n",
        "\n",
        "iface.launch()"
      ],
      "metadata": {
        "colab": {
          "base_uri": "https://localhost:8080/",
          "height": 646
        },
        "id": "joP0vSyec-Df",
        "outputId": "b80fca05-6979-410d-c389-4c461b020382"
      },
      "execution_count": 6,
      "outputs": [
        {
          "output_type": "stream",
          "name": "stdout",
          "text": [
            "It looks like you are running Gradio on a hosted Jupyter notebook, which requires `share=True`. Automatically setting `share=True` (you can turn this off by setting `share=False` in `launch()` explicitly).\n",
            "\n",
            "Colab notebook detected. To show errors in colab notebook, set debug=True in launch()\n",
            "* Running on public URL: https://9c92f12bd3dc3e32c0.gradio.live\n",
            "\n",
            "This share link expires in 1 week. For free permanent hosting and GPU upgrades, run `gradio deploy` from the terminal in the working directory to deploy to Hugging Face Spaces (https://huggingface.co/spaces)\n"
          ]
        },
        {
          "output_type": "display_data",
          "data": {
            "text/plain": [
              "<IPython.core.display.HTML object>"
            ],
            "text/html": [
              "<div><iframe src=\"https://9c92f12bd3dc3e32c0.gradio.live\" width=\"100%\" height=\"500\" allow=\"autoplay; camera; microphone; clipboard-read; clipboard-write;\" frameborder=\"0\" allowfullscreen></iframe></div>"
            ]
          },
          "metadata": {}
        },
        {
          "output_type": "execute_result",
          "data": {
            "text/plain": []
          },
          "metadata": {},
          "execution_count": 6
        }
      ]
    }
  ]
}